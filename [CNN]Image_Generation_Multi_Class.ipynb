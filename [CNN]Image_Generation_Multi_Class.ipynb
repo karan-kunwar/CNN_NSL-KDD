{
  "cells": [
    {
      "cell_type": "markdown",
      "source": [
        "### Import Libraries and connect to drive"
      ],
      "metadata": {
        "id": "I7U_rotzmGCs"
      }
    },
    {
      "cell_type": "code",
      "source": [
        "import numpy as np\n",
        "import pandas as pd\n",
        "import os\n",
        "import cv2\n",
        "import math\n",
        "import random\n",
        "import matplotlib.pyplot as plt\n",
        "import shutil\n",
        "from sklearn.preprocessing import QuantileTransformer\n",
        "from PIL import Image\n",
        "import warnings\n",
        "warnings.filterwarnings(\"ignore\")\n",
        "# importing required libraries\n",
        "import numpy as np\n",
        "import pandas as pd\n",
        "\n",
        "import pickle # saving and loading trained model\n",
        "from os import path\n",
        "\n",
        "# importing required libraries for normalizing data\n",
        "from sklearn import preprocessing\n",
        "from sklearn.preprocessing import StandardScaler\n",
        "\n",
        "# importing library for plotting\n",
        "import matplotlib.pyplot as plt\n",
        "\n",
        "# importing library for support vector machine classifier\n",
        "from sklearn.svm import SVC\n",
        "# importing library for K-neares-neighbor classifier\n",
        "from sklearn.neighbors import KNeighborsClassifier\n",
        "# importing library for Linear Discriminant Analysis Model\n",
        "from sklearn.discriminant_analysis import LinearDiscriminantAnalysis\n",
        "# importing library for Quadratic Discriminant Analysis Model\n",
        "from sklearn.discriminant_analysis import QuadraticDiscriminantAnalysis\n",
        "\n",
        "from sklearn import metrics\n",
        "from sklearn.metrics import accuracy_score # for calculating accuracy of model\n",
        "from sklearn.model_selection import train_test_split # for splitting the dataset for training and testing\n",
        "from sklearn.metrics import classification_report # for generating a classification report of model\n",
        "\n",
        "from sklearn.metrics import precision_score\n",
        "from sklearn.metrics import recall_score\n",
        "from sklearn.metrics import f1_score\n",
        "\n",
        "from sklearn.metrics import roc_auc_score\n",
        "from sklearn.metrics import roc_curve, auc\n",
        "\n",
        "from keras.layers import Dense # importing dense layer\n",
        "from keras.models import Sequential #importing Sequential layer\n",
        "from keras.models import model_from_json # saving and loading trained model\n",
        "\n",
        "from keras.layers import LSTM\n",
        "from keras.layers import Input\n",
        "from keras.models import Model\n",
        "\n",
        "# representation of model layers\n",
        "from keras.utils.vis_utils import plot_model"
      ],
      "metadata": {
        "id": "zGVjREO_lSUw"
      },
      "execution_count": null,
      "outputs": []
    },
    {
      "cell_type": "code",
      "source": [
        "from google.colab import drive\n",
        "drive.mount('/content/drive')"
      ],
      "metadata": {
        "colab": {
          "base_uri": "https://localhost:8080/"
        },
        "id": "RKlL7gc5lXGO",
        "outputId": "ae5260af-ed91-4449-8ecd-353e53245f67"
      },
      "execution_count": null,
      "outputs": [
        {
          "output_type": "stream",
          "name": "stdout",
          "text": [
            "Drive already mounted at /content/drive; to attempt to forcibly remount, call drive.mount(\"/content/drive\", force_remount=True).\n"
          ]
        }
      ]
    },
    {
      "cell_type": "markdown",
      "source": [
        "### Data Transformation"
      ],
      "metadata": {
        "id": "ahhwNXGfiFAt"
      }
    },
    {
      "cell_type": "code",
      "source": [
        "df = pd.read_csv(\"/content/drive/MyDrive/MajorProjectKDD/datasets/multi_data.csv\")"
      ],
      "metadata": {
        "id": "dSFxkxT4iJyF"
      },
      "execution_count": null,
      "outputs": []
    },
    {
      "cell_type": "code",
      "source": [
        "df.head()"
      ],
      "metadata": {
        "colab": {
          "base_uri": "https://localhost:8080/",
          "height": 317
        },
        "id": "acLi22poivNM",
        "outputId": "b77ba7f7-6255-4b50-f0ac-8b830e752b89"
      },
      "execution_count": null,
      "outputs": [
        {
          "output_type": "execute_result",
          "data": {
            "text/plain": [
              "   Unnamed: 0  logged_in  srv_serror_rate  serror_rate  dst_host_serror_rate  \\\n",
              "0           0          0              0.0          0.0                  0.00   \n",
              "1           1          0              0.0          0.0                  0.00   \n",
              "2           2          0              1.0          1.0                  1.00   \n",
              "3           3          1              0.2          0.2                  0.03   \n",
              "4           4          1              0.0          0.0                  0.00   \n",
              "\n",
              "   dst_host_same_srv_rate  dst_host_srv_serror_rate  dst_host_srv_count  \\\n",
              "0                    0.17                      0.00                  25   \n",
              "1                    0.00                      0.00                   1   \n",
              "2                    0.10                      1.00                  26   \n",
              "3                    1.00                      0.01                 255   \n",
              "4                    1.00                      0.00                 255   \n",
              "\n",
              "   same_srv_rate  protocol_type_icmp  ...  flag_S3  flag_SF  flag_SH  \\\n",
              "0           1.00                   0  ...        0        1        0   \n",
              "1           0.08                   0  ...        0        1        0   \n",
              "2           0.05                   0  ...        0        0        0   \n",
              "3           1.00                   0  ...        0        1        0   \n",
              "4           1.00                   0  ...        0        1        0   \n",
              "\n",
              "   intrusion  Dos  Probe  R2L  U2R  normal   Label  \n",
              "0          4    0      0    0    0       1  normal  \n",
              "1          4    0      0    0    0       1  normal  \n",
              "2          0    1      0    0    0       0     Dos  \n",
              "3          4    0      0    0    0       1  normal  \n",
              "4          4    0      0    0    0       1  normal  \n",
              "\n",
              "[5 rows x 100 columns]"
            ],
            "text/html": [
              "\n",
              "  <div id=\"df-5a9cd441-832a-4ee5-af43-a7c4c9d9f520\">\n",
              "    <div class=\"colab-df-container\">\n",
              "      <div>\n",
              "<style scoped>\n",
              "    .dataframe tbody tr th:only-of-type {\n",
              "        vertical-align: middle;\n",
              "    }\n",
              "\n",
              "    .dataframe tbody tr th {\n",
              "        vertical-align: top;\n",
              "    }\n",
              "\n",
              "    .dataframe thead th {\n",
              "        text-align: right;\n",
              "    }\n",
              "</style>\n",
              "<table border=\"1\" class=\"dataframe\">\n",
              "  <thead>\n",
              "    <tr style=\"text-align: right;\">\n",
              "      <th></th>\n",
              "      <th>Unnamed: 0</th>\n",
              "      <th>logged_in</th>\n",
              "      <th>srv_serror_rate</th>\n",
              "      <th>serror_rate</th>\n",
              "      <th>dst_host_serror_rate</th>\n",
              "      <th>dst_host_same_srv_rate</th>\n",
              "      <th>dst_host_srv_serror_rate</th>\n",
              "      <th>dst_host_srv_count</th>\n",
              "      <th>same_srv_rate</th>\n",
              "      <th>protocol_type_icmp</th>\n",
              "      <th>...</th>\n",
              "      <th>flag_S3</th>\n",
              "      <th>flag_SF</th>\n",
              "      <th>flag_SH</th>\n",
              "      <th>intrusion</th>\n",
              "      <th>Dos</th>\n",
              "      <th>Probe</th>\n",
              "      <th>R2L</th>\n",
              "      <th>U2R</th>\n",
              "      <th>normal</th>\n",
              "      <th>Label</th>\n",
              "    </tr>\n",
              "  </thead>\n",
              "  <tbody>\n",
              "    <tr>\n",
              "      <th>0</th>\n",
              "      <td>0</td>\n",
              "      <td>0</td>\n",
              "      <td>0.0</td>\n",
              "      <td>0.0</td>\n",
              "      <td>0.00</td>\n",
              "      <td>0.17</td>\n",
              "      <td>0.00</td>\n",
              "      <td>25</td>\n",
              "      <td>1.00</td>\n",
              "      <td>0</td>\n",
              "      <td>...</td>\n",
              "      <td>0</td>\n",
              "      <td>1</td>\n",
              "      <td>0</td>\n",
              "      <td>4</td>\n",
              "      <td>0</td>\n",
              "      <td>0</td>\n",
              "      <td>0</td>\n",
              "      <td>0</td>\n",
              "      <td>1</td>\n",
              "      <td>normal</td>\n",
              "    </tr>\n",
              "    <tr>\n",
              "      <th>1</th>\n",
              "      <td>1</td>\n",
              "      <td>0</td>\n",
              "      <td>0.0</td>\n",
              "      <td>0.0</td>\n",
              "      <td>0.00</td>\n",
              "      <td>0.00</td>\n",
              "      <td>0.00</td>\n",
              "      <td>1</td>\n",
              "      <td>0.08</td>\n",
              "      <td>0</td>\n",
              "      <td>...</td>\n",
              "      <td>0</td>\n",
              "      <td>1</td>\n",
              "      <td>0</td>\n",
              "      <td>4</td>\n",
              "      <td>0</td>\n",
              "      <td>0</td>\n",
              "      <td>0</td>\n",
              "      <td>0</td>\n",
              "      <td>1</td>\n",
              "      <td>normal</td>\n",
              "    </tr>\n",
              "    <tr>\n",
              "      <th>2</th>\n",
              "      <td>2</td>\n",
              "      <td>0</td>\n",
              "      <td>1.0</td>\n",
              "      <td>1.0</td>\n",
              "      <td>1.00</td>\n",
              "      <td>0.10</td>\n",
              "      <td>1.00</td>\n",
              "      <td>26</td>\n",
              "      <td>0.05</td>\n",
              "      <td>0</td>\n",
              "      <td>...</td>\n",
              "      <td>0</td>\n",
              "      <td>0</td>\n",
              "      <td>0</td>\n",
              "      <td>0</td>\n",
              "      <td>1</td>\n",
              "      <td>0</td>\n",
              "      <td>0</td>\n",
              "      <td>0</td>\n",
              "      <td>0</td>\n",
              "      <td>Dos</td>\n",
              "    </tr>\n",
              "    <tr>\n",
              "      <th>3</th>\n",
              "      <td>3</td>\n",
              "      <td>1</td>\n",
              "      <td>0.2</td>\n",
              "      <td>0.2</td>\n",
              "      <td>0.03</td>\n",
              "      <td>1.00</td>\n",
              "      <td>0.01</td>\n",
              "      <td>255</td>\n",
              "      <td>1.00</td>\n",
              "      <td>0</td>\n",
              "      <td>...</td>\n",
              "      <td>0</td>\n",
              "      <td>1</td>\n",
              "      <td>0</td>\n",
              "      <td>4</td>\n",
              "      <td>0</td>\n",
              "      <td>0</td>\n",
              "      <td>0</td>\n",
              "      <td>0</td>\n",
              "      <td>1</td>\n",
              "      <td>normal</td>\n",
              "    </tr>\n",
              "    <tr>\n",
              "      <th>4</th>\n",
              "      <td>4</td>\n",
              "      <td>1</td>\n",
              "      <td>0.0</td>\n",
              "      <td>0.0</td>\n",
              "      <td>0.00</td>\n",
              "      <td>1.00</td>\n",
              "      <td>0.00</td>\n",
              "      <td>255</td>\n",
              "      <td>1.00</td>\n",
              "      <td>0</td>\n",
              "      <td>...</td>\n",
              "      <td>0</td>\n",
              "      <td>1</td>\n",
              "      <td>0</td>\n",
              "      <td>4</td>\n",
              "      <td>0</td>\n",
              "      <td>0</td>\n",
              "      <td>0</td>\n",
              "      <td>0</td>\n",
              "      <td>1</td>\n",
              "      <td>normal</td>\n",
              "    </tr>\n",
              "  </tbody>\n",
              "</table>\n",
              "<p>5 rows × 100 columns</p>\n",
              "</div>\n",
              "      <button class=\"colab-df-convert\" onclick=\"convertToInteractive('df-5a9cd441-832a-4ee5-af43-a7c4c9d9f520')\"\n",
              "              title=\"Convert this dataframe to an interactive table.\"\n",
              "              style=\"display:none;\">\n",
              "        \n",
              "  <svg xmlns=\"http://www.w3.org/2000/svg\" height=\"24px\"viewBox=\"0 0 24 24\"\n",
              "       width=\"24px\">\n",
              "    <path d=\"M0 0h24v24H0V0z\" fill=\"none\"/>\n",
              "    <path d=\"M18.56 5.44l.94 2.06.94-2.06 2.06-.94-2.06-.94-.94-2.06-.94 2.06-2.06.94zm-11 1L8.5 8.5l.94-2.06 2.06-.94-2.06-.94L8.5 2.5l-.94 2.06-2.06.94zm10 10l.94 2.06.94-2.06 2.06-.94-2.06-.94-.94-2.06-.94 2.06-2.06.94z\"/><path d=\"M17.41 7.96l-1.37-1.37c-.4-.4-.92-.59-1.43-.59-.52 0-1.04.2-1.43.59L10.3 9.45l-7.72 7.72c-.78.78-.78 2.05 0 2.83L4 21.41c.39.39.9.59 1.41.59.51 0 1.02-.2 1.41-.59l7.78-7.78 2.81-2.81c.8-.78.8-2.07 0-2.86zM5.41 20L4 18.59l7.72-7.72 1.47 1.35L5.41 20z\"/>\n",
              "  </svg>\n",
              "      </button>\n",
              "      \n",
              "  <style>\n",
              "    .colab-df-container {\n",
              "      display:flex;\n",
              "      flex-wrap:wrap;\n",
              "      gap: 12px;\n",
              "    }\n",
              "\n",
              "    .colab-df-convert {\n",
              "      background-color: #E8F0FE;\n",
              "      border: none;\n",
              "      border-radius: 50%;\n",
              "      cursor: pointer;\n",
              "      display: none;\n",
              "      fill: #1967D2;\n",
              "      height: 32px;\n",
              "      padding: 0 0 0 0;\n",
              "      width: 32px;\n",
              "    }\n",
              "\n",
              "    .colab-df-convert:hover {\n",
              "      background-color: #E2EBFA;\n",
              "      box-shadow: 0px 1px 2px rgba(60, 64, 67, 0.3), 0px 1px 3px 1px rgba(60, 64, 67, 0.15);\n",
              "      fill: #174EA6;\n",
              "    }\n",
              "\n",
              "    [theme=dark] .colab-df-convert {\n",
              "      background-color: #3B4455;\n",
              "      fill: #D2E3FC;\n",
              "    }\n",
              "\n",
              "    [theme=dark] .colab-df-convert:hover {\n",
              "      background-color: #434B5C;\n",
              "      box-shadow: 0px 1px 3px 1px rgba(0, 0, 0, 0.15);\n",
              "      filter: drop-shadow(0px 1px 2px rgba(0, 0, 0, 0.3));\n",
              "      fill: #FFFFFF;\n",
              "    }\n",
              "  </style>\n",
              "\n",
              "      <script>\n",
              "        const buttonEl =\n",
              "          document.querySelector('#df-5a9cd441-832a-4ee5-af43-a7c4c9d9f520 button.colab-df-convert');\n",
              "        buttonEl.style.display =\n",
              "          google.colab.kernel.accessAllowed ? 'block' : 'none';\n",
              "\n",
              "        async function convertToInteractive(key) {\n",
              "          const element = document.querySelector('#df-5a9cd441-832a-4ee5-af43-a7c4c9d9f520');\n",
              "          const dataTable =\n",
              "            await google.colab.kernel.invokeFunction('convertToInteractive',\n",
              "                                                     [key], {});\n",
              "          if (!dataTable) return;\n",
              "\n",
              "          const docLinkHtml = 'Like what you see? Visit the ' +\n",
              "            '<a target=\"_blank\" href=https://colab.research.google.com/notebooks/data_table.ipynb>data table notebook</a>'\n",
              "            + ' to learn more about interactive tables.';\n",
              "          element.innerHTML = '';\n",
              "          dataTable['output_type'] = 'display_data';\n",
              "          await google.colab.output.renderOutput(dataTable, element);\n",
              "          const docLink = document.createElement('div');\n",
              "          docLink.innerHTML = docLinkHtml;\n",
              "          element.appendChild(docLink);\n",
              "        }\n",
              "      </script>\n",
              "    </div>\n",
              "  </div>\n",
              "  "
            ]
          },
          "metadata": {},
          "execution_count": 37
        }
      ]
    },
    {
      "cell_type": "code",
      "source": [
        "# Transform all features into the scale of [0,1]\n",
        "\n",
        "numeric_features = df.dtypes[df.dtypes != 'object'].index\n",
        "scaler = QuantileTransformer() \n",
        "numeric_features\n",
        "df[numeric_features] = scaler.fit_transform(df[numeric_features])"
      ],
      "metadata": {
        "id": "0uN3WzHOidlH"
      },
      "execution_count": null,
      "outputs": []
    },
    {
      "cell_type": "code",
      "source": [
        "# Multiply the feature values by 255 to transform them into the scale of [0,255]\n",
        "df[numeric_features] = df[numeric_features].apply(\n",
        "    lambda x: (x*255))"
      ],
      "metadata": {
        "id": "C8UG9gkyikPX"
      },
      "execution_count": null,
      "outputs": []
    },
    {
      "cell_type": "code",
      "source": [
        "df.describe()"
      ],
      "metadata": {
        "colab": {
          "base_uri": "https://localhost:8080/",
          "height": 393
        },
        "id": "eXe_X9nJlu-a",
        "outputId": "a3252826-da6a-4c6b-dc8d-17eab79c86b2"
      },
      "execution_count": null,
      "outputs": [
        {
          "output_type": "execute_result",
          "data": {
            "text/plain": [
              "          Unnamed: 0      logged_in  srv_serror_rate    serror_rate  \\\n",
              "count  125973.000000  125973.000000    125973.000000  125973.000000   \n",
              "mean      127.877318     100.912577        73.986696      76.389492   \n",
              "std        73.433093     124.697564       114.655876     114.609533   \n",
              "min         0.000000       0.000000         0.000000       0.000000   \n",
              "25%        64.184951       0.000000         0.000000       0.000000   \n",
              "50%       127.645529       0.000000         0.000000       0.000000   \n",
              "75%       192.249062     255.000000       255.000000     255.000000   \n",
              "max       255.000000     255.000000       255.000000     255.000000   \n",
              "\n",
              "       dst_host_serror_rate  dst_host_same_srv_rate  dst_host_srv_serror_rate  \\\n",
              "count         125973.000000           125973.000000             125973.000000   \n",
              "mean              83.381819              146.297644                 78.421415   \n",
              "std              114.457462               94.033687                114.745300   \n",
              "min                0.000000                0.000000                  0.000000   \n",
              "25%                0.000000               66.366366                  0.000000   \n",
              "50%                0.000000              126.734234                  0.000000   \n",
              "75%              255.000000              255.000000                255.000000   \n",
              "max              255.000000              255.000000                255.000000   \n",
              "\n",
              "       dst_host_srv_count  same_srv_rate  protocol_type_icmp  ...  \\\n",
              "count       125973.000000  125973.000000       125973.000000  ...   \n",
              "mean           136.861578     175.568975           16.783001  ...   \n",
              "std             87.494939     100.976413           63.229960  ...   \n",
              "min              0.000000       0.000000            0.000000  ...   \n",
              "25%             61.261261      63.813814            0.000000  ...   \n",
              "50%            125.968468     255.000000            0.000000  ...   \n",
              "75%            255.000000     255.000000            0.000000  ...   \n",
              "max            255.000000     255.000000          255.000000  ...   \n",
              "\n",
              "             flag_S2        flag_S3        flag_SF        flag_SH  \\\n",
              "count  125973.000000  125973.000000  125973.000000  125973.000000   \n",
              "mean        0.257079       0.099188     151.706913       0.548570   \n",
              "std         8.092561       5.028248     125.181467      11.814631   \n",
              "min         0.000000       0.000000       0.000000       0.000000   \n",
              "25%         0.000000       0.000000       0.000000       0.000000   \n",
              "50%         0.000000       0.000000     255.000000       0.000000   \n",
              "75%         0.000000       0.000000     255.000000       0.000000   \n",
              "max       255.000000     255.000000     255.000000     255.000000   \n",
              "\n",
              "           intrusion            Dos          Probe            R2L  \\\n",
              "count  125973.000000  125973.000000  125973.000000  125973.000000   \n",
              "mean      147.170483      92.967422      23.594580       2.014122   \n",
              "std       119.462425     122.734961      73.891522      22.573181   \n",
              "min         0.000000       0.000000       0.000000       0.000000   \n",
              "25%         0.000000       0.000000       0.000000       0.000000   \n",
              "50%       255.000000       0.000000       0.000000       0.000000   \n",
              "75%       255.000000     255.000000       0.000000       0.000000   \n",
              "max       255.000000     255.000000     255.000000     255.000000   \n",
              "\n",
              "                 U2R         normal  \n",
              "count  125973.000000  125973.000000  \n",
              "mean        0.105261     136.318616  \n",
              "std         5.179826     127.195167  \n",
              "min         0.000000       0.000000  \n",
              "25%         0.000000       0.000000  \n",
              "50%         0.000000     255.000000  \n",
              "75%         0.000000     255.000000  \n",
              "max       255.000000     255.000000  \n",
              "\n",
              "[8 rows x 99 columns]"
            ],
            "text/html": [
              "\n",
              "  <div id=\"df-a04105d2-78a8-44d3-b02b-b46234a637a0\">\n",
              "    <div class=\"colab-df-container\">\n",
              "      <div>\n",
              "<style scoped>\n",
              "    .dataframe tbody tr th:only-of-type {\n",
              "        vertical-align: middle;\n",
              "    }\n",
              "\n",
              "    .dataframe tbody tr th {\n",
              "        vertical-align: top;\n",
              "    }\n",
              "\n",
              "    .dataframe thead th {\n",
              "        text-align: right;\n",
              "    }\n",
              "</style>\n",
              "<table border=\"1\" class=\"dataframe\">\n",
              "  <thead>\n",
              "    <tr style=\"text-align: right;\">\n",
              "      <th></th>\n",
              "      <th>Unnamed: 0</th>\n",
              "      <th>logged_in</th>\n",
              "      <th>srv_serror_rate</th>\n",
              "      <th>serror_rate</th>\n",
              "      <th>dst_host_serror_rate</th>\n",
              "      <th>dst_host_same_srv_rate</th>\n",
              "      <th>dst_host_srv_serror_rate</th>\n",
              "      <th>dst_host_srv_count</th>\n",
              "      <th>same_srv_rate</th>\n",
              "      <th>protocol_type_icmp</th>\n",
              "      <th>...</th>\n",
              "      <th>flag_S2</th>\n",
              "      <th>flag_S3</th>\n",
              "      <th>flag_SF</th>\n",
              "      <th>flag_SH</th>\n",
              "      <th>intrusion</th>\n",
              "      <th>Dos</th>\n",
              "      <th>Probe</th>\n",
              "      <th>R2L</th>\n",
              "      <th>U2R</th>\n",
              "      <th>normal</th>\n",
              "    </tr>\n",
              "  </thead>\n",
              "  <tbody>\n",
              "    <tr>\n",
              "      <th>count</th>\n",
              "      <td>125973.000000</td>\n",
              "      <td>125973.000000</td>\n",
              "      <td>125973.000000</td>\n",
              "      <td>125973.000000</td>\n",
              "      <td>125973.000000</td>\n",
              "      <td>125973.000000</td>\n",
              "      <td>125973.000000</td>\n",
              "      <td>125973.000000</td>\n",
              "      <td>125973.000000</td>\n",
              "      <td>125973.000000</td>\n",
              "      <td>...</td>\n",
              "      <td>125973.000000</td>\n",
              "      <td>125973.000000</td>\n",
              "      <td>125973.000000</td>\n",
              "      <td>125973.000000</td>\n",
              "      <td>125973.000000</td>\n",
              "      <td>125973.000000</td>\n",
              "      <td>125973.000000</td>\n",
              "      <td>125973.000000</td>\n",
              "      <td>125973.000000</td>\n",
              "      <td>125973.000000</td>\n",
              "    </tr>\n",
              "    <tr>\n",
              "      <th>mean</th>\n",
              "      <td>127.877318</td>\n",
              "      <td>100.912577</td>\n",
              "      <td>73.986696</td>\n",
              "      <td>76.389492</td>\n",
              "      <td>83.381819</td>\n",
              "      <td>146.297644</td>\n",
              "      <td>78.421415</td>\n",
              "      <td>136.861578</td>\n",
              "      <td>175.568975</td>\n",
              "      <td>16.783001</td>\n",
              "      <td>...</td>\n",
              "      <td>0.257079</td>\n",
              "      <td>0.099188</td>\n",
              "      <td>151.706913</td>\n",
              "      <td>0.548570</td>\n",
              "      <td>147.170483</td>\n",
              "      <td>92.967422</td>\n",
              "      <td>23.594580</td>\n",
              "      <td>2.014122</td>\n",
              "      <td>0.105261</td>\n",
              "      <td>136.318616</td>\n",
              "    </tr>\n",
              "    <tr>\n",
              "      <th>std</th>\n",
              "      <td>73.433093</td>\n",
              "      <td>124.697564</td>\n",
              "      <td>114.655876</td>\n",
              "      <td>114.609533</td>\n",
              "      <td>114.457462</td>\n",
              "      <td>94.033687</td>\n",
              "      <td>114.745300</td>\n",
              "      <td>87.494939</td>\n",
              "      <td>100.976413</td>\n",
              "      <td>63.229960</td>\n",
              "      <td>...</td>\n",
              "      <td>8.092561</td>\n",
              "      <td>5.028248</td>\n",
              "      <td>125.181467</td>\n",
              "      <td>11.814631</td>\n",
              "      <td>119.462425</td>\n",
              "      <td>122.734961</td>\n",
              "      <td>73.891522</td>\n",
              "      <td>22.573181</td>\n",
              "      <td>5.179826</td>\n",
              "      <td>127.195167</td>\n",
              "    </tr>\n",
              "    <tr>\n",
              "      <th>min</th>\n",
              "      <td>0.000000</td>\n",
              "      <td>0.000000</td>\n",
              "      <td>0.000000</td>\n",
              "      <td>0.000000</td>\n",
              "      <td>0.000000</td>\n",
              "      <td>0.000000</td>\n",
              "      <td>0.000000</td>\n",
              "      <td>0.000000</td>\n",
              "      <td>0.000000</td>\n",
              "      <td>0.000000</td>\n",
              "      <td>...</td>\n",
              "      <td>0.000000</td>\n",
              "      <td>0.000000</td>\n",
              "      <td>0.000000</td>\n",
              "      <td>0.000000</td>\n",
              "      <td>0.000000</td>\n",
              "      <td>0.000000</td>\n",
              "      <td>0.000000</td>\n",
              "      <td>0.000000</td>\n",
              "      <td>0.000000</td>\n",
              "      <td>0.000000</td>\n",
              "    </tr>\n",
              "    <tr>\n",
              "      <th>25%</th>\n",
              "      <td>64.184951</td>\n",
              "      <td>0.000000</td>\n",
              "      <td>0.000000</td>\n",
              "      <td>0.000000</td>\n",
              "      <td>0.000000</td>\n",
              "      <td>66.366366</td>\n",
              "      <td>0.000000</td>\n",
              "      <td>61.261261</td>\n",
              "      <td>63.813814</td>\n",
              "      <td>0.000000</td>\n",
              "      <td>...</td>\n",
              "      <td>0.000000</td>\n",
              "      <td>0.000000</td>\n",
              "      <td>0.000000</td>\n",
              "      <td>0.000000</td>\n",
              "      <td>0.000000</td>\n",
              "      <td>0.000000</td>\n",
              "      <td>0.000000</td>\n",
              "      <td>0.000000</td>\n",
              "      <td>0.000000</td>\n",
              "      <td>0.000000</td>\n",
              "    </tr>\n",
              "    <tr>\n",
              "      <th>50%</th>\n",
              "      <td>127.645529</td>\n",
              "      <td>0.000000</td>\n",
              "      <td>0.000000</td>\n",
              "      <td>0.000000</td>\n",
              "      <td>0.000000</td>\n",
              "      <td>126.734234</td>\n",
              "      <td>0.000000</td>\n",
              "      <td>125.968468</td>\n",
              "      <td>255.000000</td>\n",
              "      <td>0.000000</td>\n",
              "      <td>...</td>\n",
              "      <td>0.000000</td>\n",
              "      <td>0.000000</td>\n",
              "      <td>255.000000</td>\n",
              "      <td>0.000000</td>\n",
              "      <td>255.000000</td>\n",
              "      <td>0.000000</td>\n",
              "      <td>0.000000</td>\n",
              "      <td>0.000000</td>\n",
              "      <td>0.000000</td>\n",
              "      <td>255.000000</td>\n",
              "    </tr>\n",
              "    <tr>\n",
              "      <th>75%</th>\n",
              "      <td>192.249062</td>\n",
              "      <td>255.000000</td>\n",
              "      <td>255.000000</td>\n",
              "      <td>255.000000</td>\n",
              "      <td>255.000000</td>\n",
              "      <td>255.000000</td>\n",
              "      <td>255.000000</td>\n",
              "      <td>255.000000</td>\n",
              "      <td>255.000000</td>\n",
              "      <td>0.000000</td>\n",
              "      <td>...</td>\n",
              "      <td>0.000000</td>\n",
              "      <td>0.000000</td>\n",
              "      <td>255.000000</td>\n",
              "      <td>0.000000</td>\n",
              "      <td>255.000000</td>\n",
              "      <td>255.000000</td>\n",
              "      <td>0.000000</td>\n",
              "      <td>0.000000</td>\n",
              "      <td>0.000000</td>\n",
              "      <td>255.000000</td>\n",
              "    </tr>\n",
              "    <tr>\n",
              "      <th>max</th>\n",
              "      <td>255.000000</td>\n",
              "      <td>255.000000</td>\n",
              "      <td>255.000000</td>\n",
              "      <td>255.000000</td>\n",
              "      <td>255.000000</td>\n",
              "      <td>255.000000</td>\n",
              "      <td>255.000000</td>\n",
              "      <td>255.000000</td>\n",
              "      <td>255.000000</td>\n",
              "      <td>255.000000</td>\n",
              "      <td>...</td>\n",
              "      <td>255.000000</td>\n",
              "      <td>255.000000</td>\n",
              "      <td>255.000000</td>\n",
              "      <td>255.000000</td>\n",
              "      <td>255.000000</td>\n",
              "      <td>255.000000</td>\n",
              "      <td>255.000000</td>\n",
              "      <td>255.000000</td>\n",
              "      <td>255.000000</td>\n",
              "      <td>255.000000</td>\n",
              "    </tr>\n",
              "  </tbody>\n",
              "</table>\n",
              "<p>8 rows × 99 columns</p>\n",
              "</div>\n",
              "      <button class=\"colab-df-convert\" onclick=\"convertToInteractive('df-a04105d2-78a8-44d3-b02b-b46234a637a0')\"\n",
              "              title=\"Convert this dataframe to an interactive table.\"\n",
              "              style=\"display:none;\">\n",
              "        \n",
              "  <svg xmlns=\"http://www.w3.org/2000/svg\" height=\"24px\"viewBox=\"0 0 24 24\"\n",
              "       width=\"24px\">\n",
              "    <path d=\"M0 0h24v24H0V0z\" fill=\"none\"/>\n",
              "    <path d=\"M18.56 5.44l.94 2.06.94-2.06 2.06-.94-2.06-.94-.94-2.06-.94 2.06-2.06.94zm-11 1L8.5 8.5l.94-2.06 2.06-.94-2.06-.94L8.5 2.5l-.94 2.06-2.06.94zm10 10l.94 2.06.94-2.06 2.06-.94-2.06-.94-.94-2.06-.94 2.06-2.06.94z\"/><path d=\"M17.41 7.96l-1.37-1.37c-.4-.4-.92-.59-1.43-.59-.52 0-1.04.2-1.43.59L10.3 9.45l-7.72 7.72c-.78.78-.78 2.05 0 2.83L4 21.41c.39.39.9.59 1.41.59.51 0 1.02-.2 1.41-.59l7.78-7.78 2.81-2.81c.8-.78.8-2.07 0-2.86zM5.41 20L4 18.59l7.72-7.72 1.47 1.35L5.41 20z\"/>\n",
              "  </svg>\n",
              "      </button>\n",
              "      \n",
              "  <style>\n",
              "    .colab-df-container {\n",
              "      display:flex;\n",
              "      flex-wrap:wrap;\n",
              "      gap: 12px;\n",
              "    }\n",
              "\n",
              "    .colab-df-convert {\n",
              "      background-color: #E8F0FE;\n",
              "      border: none;\n",
              "      border-radius: 50%;\n",
              "      cursor: pointer;\n",
              "      display: none;\n",
              "      fill: #1967D2;\n",
              "      height: 32px;\n",
              "      padding: 0 0 0 0;\n",
              "      width: 32px;\n",
              "    }\n",
              "\n",
              "    .colab-df-convert:hover {\n",
              "      background-color: #E2EBFA;\n",
              "      box-shadow: 0px 1px 2px rgba(60, 64, 67, 0.3), 0px 1px 3px 1px rgba(60, 64, 67, 0.15);\n",
              "      fill: #174EA6;\n",
              "    }\n",
              "\n",
              "    [theme=dark] .colab-df-convert {\n",
              "      background-color: #3B4455;\n",
              "      fill: #D2E3FC;\n",
              "    }\n",
              "\n",
              "    [theme=dark] .colab-df-convert:hover {\n",
              "      background-color: #434B5C;\n",
              "      box-shadow: 0px 1px 3px 1px rgba(0, 0, 0, 0.15);\n",
              "      filter: drop-shadow(0px 1px 2px rgba(0, 0, 0, 0.3));\n",
              "      fill: #FFFFFF;\n",
              "    }\n",
              "  </style>\n",
              "\n",
              "      <script>\n",
              "        const buttonEl =\n",
              "          document.querySelector('#df-a04105d2-78a8-44d3-b02b-b46234a637a0 button.colab-df-convert');\n",
              "        buttonEl.style.display =\n",
              "          google.colab.kernel.accessAllowed ? 'block' : 'none';\n",
              "\n",
              "        async function convertToInteractive(key) {\n",
              "          const element = document.querySelector('#df-a04105d2-78a8-44d3-b02b-b46234a637a0');\n",
              "          const dataTable =\n",
              "            await google.colab.kernel.invokeFunction('convertToInteractive',\n",
              "                                                     [key], {});\n",
              "          if (!dataTable) return;\n",
              "\n",
              "          const docLinkHtml = 'Like what you see? Visit the ' +\n",
              "            '<a target=\"_blank\" href=https://colab.research.google.com/notebooks/data_table.ipynb>data table notebook</a>'\n",
              "            + ' to learn more about interactive tables.';\n",
              "          element.innerHTML = '';\n",
              "          dataTable['output_type'] = 'display_data';\n",
              "          await google.colab.output.renderOutput(dataTable, element);\n",
              "          const docLink = document.createElement('div');\n",
              "          docLink.innerHTML = docLinkHtml;\n",
              "          element.appendChild(docLink);\n",
              "        }\n",
              "      </script>\n",
              "    </div>\n",
              "  </div>\n",
              "  "
            ]
          },
          "metadata": {},
          "execution_count": 40
        }
      ]
    },
    {
      "cell_type": "markdown",
      "source": [
        "### Generate images for each class"
      ],
      "metadata": {
        "id": "gDgHTgkNmETP"
      }
    },
    {
      "cell_type": "code",
      "source": [
        "df.Label.value_counts()"
      ],
      "metadata": {
        "colab": {
          "base_uri": "https://localhost:8080/"
        },
        "id": "VSaba4XEmrv3",
        "outputId": "b3926565-167c-42dc-beb8-567a959e962a"
      },
      "execution_count": null,
      "outputs": [
        {
          "output_type": "execute_result",
          "data": {
            "text/plain": [
              "normal    67343\n",
              "Dos       45927\n",
              "Probe     11656\n",
              "R2L         995\n",
              "U2R          52\n",
              "Name: Label, dtype: int64"
            ]
          },
          "metadata": {},
          "execution_count": 41
        }
      ]
    },
    {
      "cell_type": "code",
      "source": [
        "df0=df[df['Label']=='normal'].drop(['Label'],axis=1)\n",
        "df1=df[df['Label']=='Dos'].drop(['Label'],axis=1)\n",
        "df2=df[df['Label']=='Probe'].drop(['Label'],axis=1)\n",
        "df3=df[df['Label']=='R2L'].drop(['Label'],axis=1)\n",
        "# df4=df[df['Label']=='U2R'].drop(['Label'],axis=1)"
      ],
      "metadata": {
        "id": "7zmfPpKIl0FL"
      },
      "execution_count": null,
      "outputs": []
    },
    {
      "cell_type": "code",
      "source": [
        "# Generate 33*33*3 color images for class 0 (Normal)\n",
        "count=0\n",
        "ims = []\n",
        "\n",
        "image_path = \"/content/drive/MyDrive/MajorProjectKDD/multi/train/0/\"\n",
        "os.makedirs(image_path)\n",
        "\n",
        "for i in range(0, len(df0)):  \n",
        "    count=count+1\n",
        "    if count<=33:\n",
        "        im=df0.iloc[i].values \n",
        "        ims=np.append(ims,im)\n",
        "    else:\n",
        "        ims=np.array(ims).reshape(33,33,3)\n",
        "        array = np.array(ims, dtype=np.uint8)\n",
        "        new_image = Image.fromarray(array)\n",
        "        new_image.save(image_path+str(i)+'.png')\n",
        "        count=0\n",
        "        ims = []"
      ],
      "metadata": {
        "id": "wFlWuQspmx98"
      },
      "execution_count": null,
      "outputs": []
    },
    {
      "cell_type": "code",
      "source": [
        "print(len(df0))"
      ],
      "metadata": {
        "colab": {
          "base_uri": "https://localhost:8080/"
        },
        "id": "NQGh6yS2nOfc",
        "outputId": "117ac930-6abe-4358-e181-f7277da08a59"
      },
      "execution_count": null,
      "outputs": [
        {
          "output_type": "stream",
          "name": "stdout",
          "text": [
            "67343\n"
          ]
        }
      ]
    },
    {
      "cell_type": "code",
      "source": [
        "# Generate 33*33*3 color images for class 1 (Dos)\n",
        "count=0\n",
        "ims = []\n",
        "\n",
        "image_path = \"/content/drive/MyDrive/MajorProjectKDD/multi/train/1/\"\n",
        "os.makedirs(image_path)\n",
        "\n",
        "for i in range(0, len(df1)):  \n",
        "    count=count+1\n",
        "    if count<=33: \n",
        "        im=df1.iloc[i].values\n",
        "        ims=np.append(ims,im)\n",
        "    else:\n",
        "        ims=np.array(ims).reshape(33,33,3)\n",
        "        array = np.array(ims, dtype=np.uint8)\n",
        "        new_image = Image.fromarray(array)\n",
        "        new_image.save(image_path+str(i)+'.png')\n",
        "        count=0\n",
        "        ims = []"
      ],
      "metadata": {
        "id": "cPvcB5QCnVmE"
      },
      "execution_count": null,
      "outputs": []
    },
    {
      "cell_type": "code",
      "source": [
        "# Generate 33*33*3 color images for class 2 (Probe)\n",
        "count=0\n",
        "ims = []\n",
        "\n",
        "image_path = \"/content/drive/MyDrive/MajorProjectKDD/multi/train/2/\"\n",
        "os.makedirs(image_path)\n",
        "\n",
        "for i in range(0, len(df2)):  \n",
        "    count=count+1\n",
        "    if count<=33: \n",
        "        im=df2.iloc[i].values\n",
        "        ims=np.append(ims,im)\n",
        "    else:\n",
        "        ims=np.array(ims).reshape(33,33,3)\n",
        "        array = np.array(ims, dtype=np.uint8)\n",
        "        new_image = Image.fromarray(array)\n",
        "        new_image.save(image_path+str(i)+'.png')\n",
        "        count=0\n",
        "        ims = []"
      ],
      "metadata": {
        "id": "lQF2max__9tw"
      },
      "execution_count": null,
      "outputs": []
    },
    {
      "cell_type": "code",
      "source": [
        "# Generate 33*33*3 color images for class 3 (R2L)\n",
        "count=0\n",
        "ims = []\n",
        "\n",
        "image_path = \"/content/drive/MyDrive/MajorProjectKDD/multi/train/3/\"\n",
        "os.makedirs(image_path)\n",
        "\n",
        "for i in range(0, len(df3)):  \n",
        "    count=count+1\n",
        "    if count<=33: \n",
        "        im=df3.iloc[i].values\n",
        "        ims=np.append(ims,im)\n",
        "    else:\n",
        "        ims=np.array(ims).reshape(33,33,3)\n",
        "        array = np.array(ims, dtype=np.uint8)\n",
        "        new_image = Image.fromarray(array)\n",
        "        new_image.save(image_path+str(i)+'.png')\n",
        "        count=0\n",
        "        ims = []"
      ],
      "metadata": {
        "id": "3J63solmANBO"
      },
      "execution_count": null,
      "outputs": []
    },
    {
      "cell_type": "code",
      "source": [
        "## Generate 33*33*3 color images for class 4 (U2R)\n",
        "# count=0\n",
        "# ims = []\n",
        "\n",
        "# image_path = \"/content/drive/MyDrive/MajorProjectKDD/multi/train/4/\"\n",
        "# os.makedirs(image_path)\n",
        "\n",
        "# for i in range(0, len(df4)):  \n",
        "#     count=count+1\n",
        "#     if count<=33: \n",
        "#         im=df4.iloc[i].values\n",
        "#         ims=np.append(ims,im)\n",
        "#     else:\n",
        "#         ims=np.array(ims).reshape(33,33,3)\n",
        "#         array = np.array(ims, dtype=np.uint8)\n",
        "#         new_image = Image.fromarray(array)\n",
        "#         new_image.save(image_path+str(i)+'.png')\n",
        "#         count=0\n",
        "#         ims = []"
      ],
      "metadata": {
        "id": "Z5kPyE50AUpN"
      },
      "execution_count": null,
      "outputs": []
    },
    {
      "cell_type": "markdown",
      "source": [
        "### Display samples for each category"
      ],
      "metadata": {
        "id": "ncEFHOO4omRH"
      }
    },
    {
      "cell_type": "code",
      "source": [
        "img1 = Image.open('/content/drive/MyDrive/MajorProjectKDD/multi/train/0/33.png')\n",
        "img2 = Image.open('/content/drive/MyDrive/MajorProjectKDD/multi/train/1/33.png')\n",
        "img3 = Image.open('/content/drive/MyDrive/MajorProjectKDD/multi/train/2/33.png')\n",
        "img4 = Image.open('/content/drive/MyDrive/MajorProjectKDD/multi/train/3/33.png')\n",
        "# img5 = Image.open('/content/drive/MyDrive/MajorProjectKDD/multi/train/4/33.png')"
      ],
      "metadata": {
        "id": "Rru95jMdoB2Q"
      },
      "execution_count": null,
      "outputs": []
    },
    {
      "cell_type": "code",
      "source": [
        "plt.figure(figsize=(20, 20)) \n",
        "plt.subplot(1,5,1)\n",
        "plt.imshow(img1)\n",
        "plt.title(\"Normal\")\n",
        "plt.subplot(1,5,2)\n",
        "plt.imshow(img2)\n",
        "plt.title(\"Dos\")\n",
        "plt.subplot(1,5,3)\n",
        "plt.imshow(img3)\n",
        "plt.title(\"Probe\")\n",
        "plt.subplot(1,5,4)\n",
        "plt.imshow(img4)\n",
        "plt.title(\"R2L\")\n",
        "# plt.subplot(1,5,5)\n",
        "# plt.imshow(img5)\n",
        "# plt.title(\"U2R\")"
      ],
      "metadata": {
        "colab": {
          "base_uri": "https://localhost:8080/",
          "height": 345
        },
        "id": "75IInvdiopvk",
        "outputId": "a894860e-8a52-4fe0-d98e-782ec1a1ef1f"
      },
      "execution_count": null,
      "outputs": [
        {
          "output_type": "execute_result",
          "data": {
            "text/plain": [
              "Text(0.5, 1.0, 'R2L')"
            ]
          },
          "metadata": {},
          "execution_count": 50
        },
        {
          "output_type": "display_data",
          "data": {
            "text/plain": [
              "<Figure size 2000x2000 with 4 Axes>"
            ],
            "image/png": "[encoded data removed]"
          },
          "metadata": {}
        }
      ]
    },
    {
      "cell_type": "code",
      "source": [
        "# Create folders to store images\n",
        "Train_Dir='/content/drive/MyDrive/MajorProjectKDD/multi/train/'\n",
        "Val_Dir='/content/drive/MyDrive/MajorProjectKDD/multi/test/'\n",
        "allimgs=[]\n",
        "for subdir in os.listdir(Train_Dir):\n",
        "    for filename in os.listdir(os.path.join(Train_Dir,subdir)):\n",
        "        filepath=os.path.join(Train_Dir,subdir,filename)\n",
        "        allimgs.append(filepath)\n",
        "print(len(allimgs)) # Print the total number of images"
      ],
      "metadata": {
        "colab": {
          "base_uri": "https://localhost:8080/"
        },
        "id": "QCV_uYk5pKir",
        "outputId": "cb75e8e4-d9e4-48d4-8fb7-bb3ed4cbe9ca"
      },
      "execution_count": null,
      "outputs": [
        {
          "output_type": "stream",
          "name": "stdout",
          "text": [
            "3701\n"
          ]
        }
      ]
    },
    {
      "cell_type": "code",
      "source": [
        "#split a test set from the dataset, train/test size = 80%/20%\n",
        "Numbers=len(allimgs)//5 \t#size of test set (20%)\n",
        "\n",
        "def mymovefile(srcfile,dstfile):\n",
        "    if not os.path.isfile(srcfile):\n",
        "        print (\"%s not exist!\"%(srcfile))\n",
        "    else:\n",
        "        fpath,fname=os.path.split(dstfile)    \n",
        "        if not os.path.exists(fpath):\n",
        "            os.makedirs(fpath)               \n",
        "        shutil.move(srcfile,dstfile)          \n",
        "        #print (\"move %s -> %s\"%(srcfile,dstfile))"
      ],
      "metadata": {
        "id": "a9AGdhuzqAE7"
      },
      "execution_count": null,
      "outputs": []
    },
    {
      "cell_type": "code",
      "source": [
        "# The size of test set\n",
        "Numbers"
      ],
      "metadata": {
        "colab": {
          "base_uri": "https://localhost:8080/"
        },
        "id": "uVJTkaXVsvvZ",
        "outputId": "8b46070b-3ff0-4b00-cea4-4e27a746ddff"
      },
      "execution_count": null,
      "outputs": [
        {
          "output_type": "execute_result",
          "data": {
            "text/plain": [
              "740"
            ]
          },
          "metadata": {},
          "execution_count": 53
        }
      ]
    },
    {
      "cell_type": "code",
      "source": [
        "# Create the test set\n",
        "val_imgs=random.sample(allimgs,Numbers)\n",
        "for img in val_imgs:\n",
        "    dest_path=img.replace(Train_Dir,Val_Dir)\n",
        "    mymovefile(img,dest_path)\n",
        "print('Finish creating test set')"
      ],
      "metadata": {
        "colab": {
          "base_uri": "https://localhost:8080/"
        },
        "id": "YrIa0mVPsy4i",
        "outputId": "1c9c632e-2aeb-4471-8961-d898002936e8"
      },
      "execution_count": null,
      "outputs": [
        {
          "output_type": "stream",
          "name": "stdout",
          "text": [
            "Finish creating test set\n"
          ]
        }
      ]
    },
    {
      "cell_type": "code",
      "source": [
        "#resize the images 224*224 for better CNN training\n",
        "def get_224(folder, dstdir):\n",
        "    imgfilepaths=[]\n",
        "    for root,dirs,imgs in os.walk(folder):\n",
        "        for thisimg in imgs:\n",
        "            thisimg_path=os.path.join(root,thisimg)\n",
        "            imgfilepaths.append(thisimg_path)\n",
        "    for thisimg_path in imgfilepaths:\n",
        "        dir_name,filename=os.path.split(thisimg_path)\n",
        "        dir_name=dir_name.replace(folder,dstdir)\n",
        "        new_file_path=os.path.join(dir_name,filename)\n",
        "        if not os.path.exists(dir_name):\n",
        "            os.makedirs(dir_name)\n",
        "        img=cv2.imread(thisimg_path)\n",
        "        img=cv2.resize(img,(224,224))\n",
        "        cv2.imwrite(new_file_path,img)\n",
        "    print('Finish resizing'.format(folder=folder))"
      ],
      "metadata": {
        "id": "2T5qso1fs8Jg"
      },
      "execution_count": null,
      "outputs": []
    },
    {
      "cell_type": "code",
      "source": [
        "DATA_DIR_224='/content/drive/MyDrive/MajorProjectKDD/multi/train_224/'\n",
        "get_224(folder='/content/drive/MyDrive/MajorProjectKDD/multi/train/',dstdir=DATA_DIR_224)"
      ],
      "metadata": {
        "colab": {
          "base_uri": "https://localhost:8080/"
        },
        "id": "3AzU6xDUtCpE",
        "outputId": "301d190f-f449-417b-c6f9-25d2c8ebe908"
      },
      "execution_count": null,
      "outputs": [
        {
          "output_type": "stream",
          "name": "stdout",
          "text": [
            "Finish resizing\n"
          ]
        }
      ]
    },
    {
      "cell_type": "code",
      "source": [
        "DATA_DIR2_224='/content/drive/MyDrive/MajorProjectKDD/multi/test_224/'\n",
        "get_224(folder='/content/drive/MyDrive/MajorProjectKDD/multi/test/',dstdir=DATA_DIR2_224)"
      ],
      "metadata": {
        "colab": {
          "base_uri": "https://localhost:8080/"
        },
        "id": "oFBJlZ6KtIep",
        "outputId": "627c43e0-79d9-49a2-8b30-3805598155f3"
      },
      "execution_count": null,
      "outputs": [
        {
          "output_type": "stream",
          "name": "stdout",
          "text": [
            "Finish resizing\n"
          ]
        }
      ]
    }
  ],
  "metadata": {
    "anaconda-cloud": {},
    "colab": {
      "provenance": []
    },
    "gpuClass": "standard",
    "kernelspec": {
      "display_name": "Python 3",
      "language": "python",
      "name": "python3"
    },
    "language_info": {
      "codemirror_mode": {
        "name": "ipython",
        "version": 3
      },
      "file_extension": ".py",
      "mimetype": "text/x-python",
      "name": "python",
      "nbconvert_exporter": "python",
      "pygments_lexer": "ipython3",
      "version": "3.9.0"
    }
  },
  "nbformat": 4,
  "nbformat_minor": 0
}